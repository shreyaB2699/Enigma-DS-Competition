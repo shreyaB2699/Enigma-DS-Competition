{
 "cells": [
  {
   "cell_type": "markdown",
   "metadata": {},
   "source": [
    "##### Classify Action Feature for Domain Network Security\n",
    "\n",
    "  ---- By Shreya Bhatnagar and Abhay Sharma"
   ]
  },
  {
   "cell_type": "code",
   "execution_count": 1,
   "metadata": {},
   "outputs": [],
   "source": [
    "# IMPORTING LIBRARIES\n",
    "\n",
    "import pandas as pd\n",
    "from sklearn.ensemble import RandomForestRegressor\n",
    "from sklearn.linear_model import LinearRegression\n",
    "from sklearn.linear_model import LogisticRegression\n",
    "from sklearn.metrics import f1_score\n",
    "from sklearn.impute import SimpleImputer\n",
    "from sklearn.model_selection import train_test_split\n",
    "from sklearn.preprocessing import OneHotEncoder\n",
    "from sklearn.compose import ColumnTransformer\n",
    "from sklearn.pipeline import Pipeline\n",
    "import numpy as np\n",
    "import matplotlib.pyplot as plt\n",
    "\n",
    "# IGNORE WARNINGS\n",
    "import warnings\n",
    "warnings.filterwarnings(\"ignore\")"
   ]
  },
  {
   "cell_type": "code",
   "execution_count": 2,
   "metadata": {},
   "outputs": [],
   "source": [
    "# ACCESSING TRAINING DATA\n",
    "\n",
    "train = pd.read_csv('train.csv')"
   ]
  },
  {
   "cell_type": "code",
   "execution_count": 3,
   "metadata": {},
   "outputs": [
    {
     "data": {
      "text/html": [
       "<div>\n",
       "<style scoped>\n",
       "    .dataframe tbody tr th:only-of-type {\n",
       "        vertical-align: middle;\n",
       "    }\n",
       "\n",
       "    .dataframe tbody tr th {\n",
       "        vertical-align: top;\n",
       "    }\n",
       "\n",
       "    .dataframe thead th {\n",
       "        text-align: right;\n",
       "    }\n",
       "</style>\n",
       "<table border=\"1\" class=\"dataframe\">\n",
       "  <thead>\n",
       "    <tr style=\"text-align: right;\">\n",
       "      <th></th>\n",
       "      <th>ID</th>\n",
       "      <th>Source Port</th>\n",
       "      <th>Destination Port</th>\n",
       "      <th>NAT Source Port</th>\n",
       "      <th>NAT Destination Port</th>\n",
       "      <th>Bytes</th>\n",
       "      <th>Bytes Sent</th>\n",
       "      <th>Bytes Received</th>\n",
       "      <th>Packets</th>\n",
       "      <th>Elapsed Time (sec)</th>\n",
       "      <th>pkts_sent</th>\n",
       "      <th>pkts_received</th>\n",
       "      <th>Action</th>\n",
       "    </tr>\n",
       "  </thead>\n",
       "  <tbody>\n",
       "    <tr>\n",
       "      <th>0</th>\n",
       "      <td>59276</td>\n",
       "      <td>49418.0</td>\n",
       "      <td>27015.0</td>\n",
       "      <td>54748.0</td>\n",
       "      <td>NaN</td>\n",
       "      <td>78.0</td>\n",
       "      <td>78.0</td>\n",
       "      <td>0.0</td>\n",
       "      <td>1.0</td>\n",
       "      <td>29.0</td>\n",
       "      <td>1.0</td>\n",
       "      <td>0.0</td>\n",
       "      <td>allow</td>\n",
       "    </tr>\n",
       "    <tr>\n",
       "      <th>1</th>\n",
       "      <td>18986</td>\n",
       "      <td>58120.0</td>\n",
       "      <td>25174.0</td>\n",
       "      <td>NaN</td>\n",
       "      <td>0.0</td>\n",
       "      <td>66.0</td>\n",
       "      <td>66.0</td>\n",
       "      <td>0.0</td>\n",
       "      <td>NaN</td>\n",
       "      <td>0.0</td>\n",
       "      <td>1.0</td>\n",
       "      <td>0.0</td>\n",
       "      <td>deny</td>\n",
       "    </tr>\n",
       "    <tr>\n",
       "      <th>2</th>\n",
       "      <td>11131</td>\n",
       "      <td>46751.0</td>\n",
       "      <td>53.0</td>\n",
       "      <td>46751.0</td>\n",
       "      <td>53.0</td>\n",
       "      <td>220.0</td>\n",
       "      <td>90.0</td>\n",
       "      <td>130.0</td>\n",
       "      <td>2.0</td>\n",
       "      <td>30.0</td>\n",
       "      <td>NaN</td>\n",
       "      <td>1.0</td>\n",
       "      <td>allow</td>\n",
       "    </tr>\n",
       "    <tr>\n",
       "      <th>3</th>\n",
       "      <td>57352</td>\n",
       "      <td>52596.0</td>\n",
       "      <td>NaN</td>\n",
       "      <td>0.0</td>\n",
       "      <td>0.0</td>\n",
       "      <td>66.0</td>\n",
       "      <td>66.0</td>\n",
       "      <td>0.0</td>\n",
       "      <td>1.0</td>\n",
       "      <td>NaN</td>\n",
       "      <td>1.0</td>\n",
       "      <td>0.0</td>\n",
       "      <td>drop</td>\n",
       "    </tr>\n",
       "    <tr>\n",
       "      <th>4</th>\n",
       "      <td>17229</td>\n",
       "      <td>50584.0</td>\n",
       "      <td>6881.0</td>\n",
       "      <td>29773.0</td>\n",
       "      <td>NaN</td>\n",
       "      <td>502.0</td>\n",
       "      <td>150.0</td>\n",
       "      <td>352.0</td>\n",
       "      <td>2.0</td>\n",
       "      <td>1200.0</td>\n",
       "      <td>NaN</td>\n",
       "      <td>1.0</td>\n",
       "      <td>allow</td>\n",
       "    </tr>\n",
       "    <tr>\n",
       "      <th>...</th>\n",
       "      <td>...</td>\n",
       "      <td>...</td>\n",
       "      <td>...</td>\n",
       "      <td>...</td>\n",
       "      <td>...</td>\n",
       "      <td>...</td>\n",
       "      <td>...</td>\n",
       "      <td>...</td>\n",
       "      <td>...</td>\n",
       "      <td>...</td>\n",
       "      <td>...</td>\n",
       "      <td>...</td>\n",
       "      <td>...</td>\n",
       "    </tr>\n",
       "    <tr>\n",
       "      <th>45865</th>\n",
       "      <td>36322</td>\n",
       "      <td>NaN</td>\n",
       "      <td>53.0</td>\n",
       "      <td>NaN</td>\n",
       "      <td>53.0</td>\n",
       "      <td>94.0</td>\n",
       "      <td>94.0</td>\n",
       "      <td>0.0</td>\n",
       "      <td>NaN</td>\n",
       "      <td>29.0</td>\n",
       "      <td>NaN</td>\n",
       "      <td>NaN</td>\n",
       "      <td>allow</td>\n",
       "    </tr>\n",
       "    <tr>\n",
       "      <th>45866</th>\n",
       "      <td>36418</td>\n",
       "      <td>NaN</td>\n",
       "      <td>53.0</td>\n",
       "      <td>44635.0</td>\n",
       "      <td>53.0</td>\n",
       "      <td>177.0</td>\n",
       "      <td>94.0</td>\n",
       "      <td>83.0</td>\n",
       "      <td>2.0</td>\n",
       "      <td>NaN</td>\n",
       "      <td>NaN</td>\n",
       "      <td>1.0</td>\n",
       "      <td>allow</td>\n",
       "    </tr>\n",
       "    <tr>\n",
       "      <th>45867</th>\n",
       "      <td>2289</td>\n",
       "      <td>50438.0</td>\n",
       "      <td>445.0</td>\n",
       "      <td>0.0</td>\n",
       "      <td>0.0</td>\n",
       "      <td>70.0</td>\n",
       "      <td>NaN</td>\n",
       "      <td>0.0</td>\n",
       "      <td>1.0</td>\n",
       "      <td>0.0</td>\n",
       "      <td>1.0</td>\n",
       "      <td>0.0</td>\n",
       "      <td>drop</td>\n",
       "    </tr>\n",
       "    <tr>\n",
       "      <th>45868</th>\n",
       "      <td>10229</td>\n",
       "      <td>37785.0</td>\n",
       "      <td>80.0</td>\n",
       "      <td>22917.0</td>\n",
       "      <td>80.0</td>\n",
       "      <td>2293.0</td>\n",
       "      <td>1576.0</td>\n",
       "      <td>NaN</td>\n",
       "      <td>12.0</td>\n",
       "      <td>15.0</td>\n",
       "      <td>6.0</td>\n",
       "      <td>NaN</td>\n",
       "      <td>allow</td>\n",
       "    </tr>\n",
       "    <tr>\n",
       "      <th>45869</th>\n",
       "      <td>42470</td>\n",
       "      <td>53090.0</td>\n",
       "      <td>NaN</td>\n",
       "      <td>0.0</td>\n",
       "      <td>0.0</td>\n",
       "      <td>66.0</td>\n",
       "      <td>66.0</td>\n",
       "      <td>NaN</td>\n",
       "      <td>NaN</td>\n",
       "      <td>0.0</td>\n",
       "      <td>1.0</td>\n",
       "      <td>0.0</td>\n",
       "      <td>deny</td>\n",
       "    </tr>\n",
       "  </tbody>\n",
       "</table>\n",
       "<p>45870 rows × 13 columns</p>\n",
       "</div>"
      ],
      "text/plain": [
       "          ID  Source Port  Destination Port  NAT Source Port  \\\n",
       "0      59276      49418.0           27015.0          54748.0   \n",
       "1      18986      58120.0           25174.0              NaN   \n",
       "2      11131      46751.0              53.0          46751.0   \n",
       "3      57352      52596.0               NaN              0.0   \n",
       "4      17229      50584.0            6881.0          29773.0   \n",
       "...      ...          ...               ...              ...   \n",
       "45865  36322          NaN              53.0              NaN   \n",
       "45866  36418          NaN              53.0          44635.0   \n",
       "45867   2289      50438.0             445.0              0.0   \n",
       "45868  10229      37785.0              80.0          22917.0   \n",
       "45869  42470      53090.0               NaN              0.0   \n",
       "\n",
       "       NAT Destination Port   Bytes  Bytes Sent  Bytes Received  Packets  \\\n",
       "0                       NaN    78.0        78.0             0.0      1.0   \n",
       "1                       0.0    66.0        66.0             0.0      NaN   \n",
       "2                      53.0   220.0        90.0           130.0      2.0   \n",
       "3                       0.0    66.0        66.0             0.0      1.0   \n",
       "4                       NaN   502.0       150.0           352.0      2.0   \n",
       "...                     ...     ...         ...             ...      ...   \n",
       "45865                  53.0    94.0        94.0             0.0      NaN   \n",
       "45866                  53.0   177.0        94.0            83.0      2.0   \n",
       "45867                   0.0    70.0         NaN             0.0      1.0   \n",
       "45868                  80.0  2293.0      1576.0             NaN     12.0   \n",
       "45869                   0.0    66.0        66.0             NaN      NaN   \n",
       "\n",
       "       Elapsed Time (sec)  pkts_sent  pkts_received Action  \n",
       "0                    29.0        1.0            0.0  allow  \n",
       "1                     0.0        1.0            0.0   deny  \n",
       "2                    30.0        NaN            1.0  allow  \n",
       "3                     NaN        1.0            0.0   drop  \n",
       "4                  1200.0        NaN            1.0  allow  \n",
       "...                   ...        ...            ...    ...  \n",
       "45865                29.0        NaN            NaN  allow  \n",
       "45866                 NaN        NaN            1.0  allow  \n",
       "45867                 0.0        1.0            0.0   drop  \n",
       "45868                15.0        6.0            NaN  allow  \n",
       "45869                 0.0        1.0            0.0   deny  \n",
       "\n",
       "[45870 rows x 13 columns]"
      ]
     },
     "execution_count": 3,
     "metadata": {},
     "output_type": "execute_result"
    }
   ],
   "source": [
    "# PRINTING DATA\n",
    "\n",
    "train"
   ]
  },
  {
   "cell_type": "code",
   "execution_count": 4,
   "metadata": {},
   "outputs": [
    {
     "data": {
      "text/plain": [
       "(45870, 13)"
      ]
     },
     "execution_count": 4,
     "metadata": {},
     "output_type": "execute_result"
    }
   ],
   "source": [
    "# PRINTING SHAPE\n",
    "\n",
    "train.shape"
   ]
  },
  {
   "cell_type": "code",
   "execution_count": 5,
   "metadata": {},
   "outputs": [
    {
     "data": {
      "text/plain": [
       "Index(['ID', 'Source Port', 'Destination Port', 'NAT Source Port',\n",
       "       'NAT Destination Port', 'Bytes', 'Bytes Sent', 'Bytes Received',\n",
       "       'Packets', 'Elapsed Time (sec)', 'pkts_sent', 'pkts_received',\n",
       "       'Action'],\n",
       "      dtype='object')"
      ]
     },
     "execution_count": 5,
     "metadata": {},
     "output_type": "execute_result"
    }
   ],
   "source": [
    "# PRINTING COLUMN NAMES\n",
    "\n",
    "train.columns\n"
   ]
  },
  {
   "cell_type": "code",
   "execution_count": 6,
   "metadata": {},
   "outputs": [
    {
     "data": {
      "text/plain": [
       "array(['allow', 'deny', 'drop', 'reset-both'], dtype=object)"
      ]
     },
     "execution_count": 6,
     "metadata": {},
     "output_type": "execute_result"
    }
   ],
   "source": [
    "train.Action.unique()"
   ]
  },
  {
   "cell_type": "code",
   "execution_count": 7,
   "metadata": {},
   "outputs": [],
   "source": [
    "# EDITING TARGET VARIABLE\n",
    "\n",
    "train.Action.replace(('allow', 'deny', 'drop', 'reset-both'), (4,3,2,1), inplace=True)\n"
   ]
  },
  {
   "cell_type": "code",
   "execution_count": 8,
   "metadata": {},
   "outputs": [],
   "source": [
    "# TRAIN TEST SPLIT\n",
    "train_X_variables = ['Source Port', 'Destination Port', 'NAT Source Port',\n",
    "       'NAT Destination Port', 'Bytes', 'Bytes Sent', 'Elapsed Time (sec)']\n",
    "train_y_variables = ['Action']\n",
    "X_train,X_test,y_train,y_test = train_test_split(train[train_X_variables], train[train_y_variables], test_size=0.33, random_state=1)"
   ]
  },
  {
   "cell_type": "code",
   "execution_count": 9,
   "metadata": {},
   "outputs": [
    {
     "name": "stdout",
     "output_type": "stream",
     "text": [
      "       Source Port  Destination Port  NAT Source Port  NAT Destination Port  \\\n",
      "15299      52712.0             443.0          61572.0                   NaN   \n",
      "3644       64626.0           50584.0              0.0                   0.0   \n",
      "33110          NaN              53.0          36561.0                   NaN   \n",
      "11195      51844.0               NaN           8982.0               12471.0   \n",
      "21327          NaN              53.0              NaN                  53.0   \n",
      "...            ...               ...              ...                   ...   \n",
      "43723      55678.0           52879.0          10322.0               52879.0   \n",
      "32511      50792.0             445.0              0.0                   0.0   \n",
      "5192        6126.0           25174.0              NaN                   0.0   \n",
      "12172       1027.0           25174.0              0.0                   0.0   \n",
      "33003      44511.0              53.0          15897.0                  53.0   \n",
      "\n",
      "       Bytes  Bytes Sent  Elapsed Time (sec)  \n",
      "15299    NaN     20002.0                 NaN  \n",
      "3644    62.0        62.0                 0.0  \n",
      "33110  196.0       102.0                30.0  \n",
      "11195    NaN        70.0                 5.0  \n",
      "21327  182.0        93.0                30.0  \n",
      "...      ...         ...                 ...  \n",
      "43723    NaN        70.0                 NaN  \n",
      "32511   70.0        70.0                 0.0  \n",
      "5192     NaN        66.0                 0.0  \n",
      "12172   62.0        62.0                 0.0  \n",
      "33003  199.0        94.0                30.0  \n",
      "\n",
      "[30732 rows x 7 columns]\n",
      "       Source Port  Destination Port  NAT Source Port  NAT Destination Port  \\\n",
      "16751      49854.0             443.0          20438.0                   NaN   \n",
      "44940      48817.0           41706.0          48817.0               41706.0   \n",
      "24832      56126.0              53.0          43934.0                  53.0   \n",
      "11912      50038.0              53.0              NaN                  53.0   \n",
      "15577       6404.0           64147.0              0.0                   0.0   \n",
      "...            ...               ...              ...                   ...   \n",
      "6780       58348.0             445.0              0.0                   0.0   \n",
      "24594      60014.0             445.0              0.0                   NaN   \n",
      "470        44208.0           26467.0              0.0                   0.0   \n",
      "31253      56660.0               NaN          34940.0                  53.0   \n",
      "14246          NaN             443.0           5076.0                   NaN   \n",
      "\n",
      "        Bytes  Bytes Sent  Elapsed Time (sec)  \n",
      "16751  5578.0      2780.0               120.0  \n",
      "44940     NaN       152.0              1200.0  \n",
      "24832   183.0        94.0                30.0  \n",
      "11912   170.0        87.0                31.0  \n",
      "15577   145.0       145.0                 0.0  \n",
      "...       ...         ...                 ...  \n",
      "6780      NaN         NaN                 0.0  \n",
      "24594     NaN        70.0                 0.0  \n",
      "470      62.0         NaN                 0.0  \n",
      "31253   183.0         NaN                30.0  \n",
      "14246     NaN       292.0                26.0  \n",
      "\n",
      "[15138 rows x 7 columns]\n",
      "       Action\n",
      "15299       4\n",
      "3644        3\n",
      "33110       4\n",
      "11195       4\n",
      "21327       4\n",
      "...       ...\n",
      "43723       4\n",
      "32511       2\n",
      "5192        3\n",
      "12172       3\n",
      "33003       4\n",
      "\n",
      "[30732 rows x 1 columns]\n",
      "       Action\n",
      "16751       4\n",
      "44940       4\n",
      "24832       4\n",
      "11912       4\n",
      "15577       3\n",
      "...       ...\n",
      "6780        2\n",
      "24594       2\n",
      "470         3\n",
      "31253       4\n",
      "14246       4\n",
      "\n",
      "[15138 rows x 1 columns]\n"
     ]
    }
   ],
   "source": [
    "print(X_train)\n",
    "print(X_test)\n",
    "print(y_train)\n",
    "print(y_test)"
   ]
  },
  {
   "cell_type": "code",
   "execution_count": 10,
   "metadata": {},
   "outputs": [
    {
     "data": {
      "image/png": "[encoded data removed]",
      "text/plain": [
       "<Figure size 1080x720 with 2 Axes>"
      ]
     },
     "metadata": {
      "needs_background": "light"
     },
     "output_type": "display_data"
    }
   ],
   "source": [
    "# Heat Map\n",
    "\n",
    "import seaborn as sns\n",
    "plt.figure(figsize=(15,10))\n",
    "sns.heatmap(train.corr(),vmin=-1, vmax=1, annot=True)\n",
    "plt.show()"
   ]
  },
  {
   "cell_type": "markdown",
   "metadata": {},
   "source": [
    "###### Cleaning Data"
   ]
  },
  {
   "cell_type": "markdown",
   "metadata": {},
   "source": [
    "<I><u>Getting Catagorical and Numerical Columns to impute</u></I>"
   ]
  },
  {
   "cell_type": "code",
   "execution_count": 11,
   "metadata": {
    "scrolled": true
   },
   "outputs": [
    {
     "name": "stdout",
     "output_type": "stream",
     "text": [
      "Index(['Source Port', 'Destination Port', 'NAT Source Port',\n",
      "       'NAT Destination Port', 'Bytes', 'Bytes Sent', 'Elapsed Time (sec)'],\n",
      "      dtype='object')\n",
      "Feature Importances :  [ 9.3328561  29.01936062  9.03910869  8.36616942 13.9811358  13.66963724\n",
      " 16.59173213]\n"
     ]
    }
   ],
   "source": [
    "#from xgboost import XGBClassifier\n",
    "from catboost import CatBoostClassifier\n",
    "\n",
    "# fit model to training data\n",
    "cat_model = CatBoostClassifier(custom_loss=['Accuracy'],random_seed=42,loss_function = 'MultiClass', logging_level = 'Silent')\n",
    "cat_model.fit(X_train, y_train)\n",
    "\n",
    "print(X_train.columns)\n",
    "print(\"Feature Importances : \", cat_model.feature_importances_)\n",
    "\n",
    "# plot feature importance\n",
    "#plot_importance(xgb_model)\n",
    "#plt.show()"
   ]
  },
  {
   "cell_type": "code",
   "execution_count": 12,
   "metadata": {},
   "outputs": [
    {
     "name": "stdout",
     "output_type": "stream",
     "text": [
      "[]\n",
      "['Source Port', 'Destination Port', 'NAT Source Port', 'NAT Destination Port', 'Bytes', 'Bytes Sent', 'Elapsed Time (sec)']\n"
     ]
    }
   ],
   "source": [
    "# Getting Catagorical Columns\n",
    "\n",
    "s = (X_train.dtypes == 'object')\n",
    "object_cols = list(s[s].index)\n",
    "\n",
    "# Getting Numerical Columns\n",
    "\n",
    "s = (X_train.dtypes != 'object')\n",
    "num_cols = list(s[s].index)\n",
    "\n",
    "#printing to check\n",
    "\n",
    "print(object_cols)\n",
    "print(num_cols)"
   ]
  },
  {
   "cell_type": "code",
   "execution_count": 13,
   "metadata": {},
   "outputs": [],
   "source": [
    "# Numeric Transformer\n",
    "\n",
    "numerical_transformer = SimpleImputer(strategy='median')\n",
    "\n",
    "# Catagorical Transformer\n",
    "\n",
    "categorical_transformer = Pipeline(steps=[\n",
    "    ('imputer', SimpleImputer(strategy='most_frequent')),\n",
    "    ('onehot', OneHotEncoder(handle_unknown='ignore'))\n",
    "])\n",
    "\n",
    "# Preprocessing\n",
    "\n",
    "preprocessor = ColumnTransformer(\n",
    "    transformers=[\n",
    "        ('num', numerical_transformer, num_cols),\n",
    "        ('cat', categorical_transformer, object_cols)\n",
    "    ])\n"
   ]
  },
  {
   "cell_type": "code",
   "execution_count": 14,
   "metadata": {},
   "outputs": [],
   "source": [
    "#!pip install catboost\n",
    "from catboost import CatBoostClassifier\n",
    "\n",
    "model_cat = CatBoostClassifier(custom_loss=['Accuracy'],random_seed=42,loss_function = 'MultiClass', logging_level = 'Silent')\n"
   ]
  },
  {
   "cell_type": "code",
   "execution_count": 15,
   "metadata": {
    "scrolled": false
   },
   "outputs": [],
   "source": [
    "# APPLYING PIPELINE\n",
    "\n",
    "my_pipeline = Pipeline(steps=[('preprocessor', preprocessor),\n",
    "                              ('model', model_cat)\n",
    "                             ])\n",
    "my_pipeline.fit(X_train, y_train)\n",
    "preds = my_pipeline.predict(X_test)\n",
    "preds_training = my_pipeline.predict(X_train)\n",
    "\n",
    "#print(preds)\n",
    "#print(sum(preds))\n",
    "#print(len(preds) - sum(preds))\n",
    "#print((sum(preds))/(len(preds) - sum(preds)))"
   ]
  },
  {
   "cell_type": "code",
   "execution_count": 16,
   "metadata": {},
   "outputs": [
    {
     "name": "stdout",
     "output_type": "stream",
     "text": [
      "0.7916574972168509\n",
      "0.8426135022615272\n"
     ]
    }
   ],
   "source": [
    "print(f1_score(y_test,preds,average = 'macro'))\n",
    "print(f1_score(y_train,preds_training, average = 'macro'))"
   ]
  },
  {
   "cell_type": "code",
   "execution_count": 17,
   "metadata": {},
   "outputs": [],
   "source": [
    "preds = pd.DataFrame(preds)"
   ]
  },
  {
   "cell_type": "code",
   "execution_count": 18,
   "metadata": {},
   "outputs": [
    {
     "name": "stdout",
     "output_type": "stream",
     "text": [
      "       Action\n",
      "0           4\n",
      "1           4\n",
      "2           4\n",
      "3           4\n",
      "4           3\n",
      "...       ...\n",
      "15133       2\n",
      "15134       2\n",
      "15135       3\n",
      "15136       4\n",
      "15137       4\n",
      "\n",
      "[15138 rows x 1 columns]\n"
     ]
    }
   ],
   "source": [
    "preds.columns = ['Action']\n",
    "print(preds)\n"
   ]
  },
  {
   "cell_type": "code",
   "execution_count": 19,
   "metadata": {},
   "outputs": [
    {
     "data": {
      "text/plain": [
       "4    8692\n",
       "3    3229\n",
       "2    3215\n",
       "1       2\n",
       "Name: Action, dtype: int64"
      ]
     },
     "execution_count": 19,
     "metadata": {},
     "output_type": "execute_result"
    }
   ],
   "source": [
    "preds.Action.value_counts()"
   ]
  },
  {
   "cell_type": "code",
   "execution_count": 20,
   "metadata": {},
   "outputs": [],
   "source": [
    "# IMPORTING PREDICTION DATA\n",
    "\n",
    "test = pd.read_csv('test.csv')\n",
    "\n"
   ]
  },
  {
   "cell_type": "code",
   "execution_count": 21,
   "metadata": {},
   "outputs": [
    {
     "data": {
      "text/html": [
       "<div>\n",
       "<style scoped>\n",
       "    .dataframe tbody tr th:only-of-type {\n",
       "        vertical-align: middle;\n",
       "    }\n",
       "\n",
       "    .dataframe tbody tr th {\n",
       "        vertical-align: top;\n",
       "    }\n",
       "\n",
       "    .dataframe thead th {\n",
       "        text-align: right;\n",
       "    }\n",
       "</style>\n",
       "<table border=\"1\" class=\"dataframe\">\n",
       "  <thead>\n",
       "    <tr style=\"text-align: right;\">\n",
       "      <th></th>\n",
       "      <th>ID</th>\n",
       "      <th>Source Port</th>\n",
       "      <th>Destination Port</th>\n",
       "      <th>NAT Source Port</th>\n",
       "      <th>NAT Destination Port</th>\n",
       "      <th>Bytes</th>\n",
       "      <th>Bytes Sent</th>\n",
       "      <th>Bytes Received</th>\n",
       "      <th>Packets</th>\n",
       "      <th>Elapsed Time (sec)</th>\n",
       "      <th>pkts_sent</th>\n",
       "      <th>pkts_received</th>\n",
       "    </tr>\n",
       "  </thead>\n",
       "  <tbody>\n",
       "    <tr>\n",
       "      <th>0</th>\n",
       "      <td>23127</td>\n",
       "      <td>50142.0</td>\n",
       "      <td>445.0</td>\n",
       "      <td>0.0</td>\n",
       "      <td>0.0</td>\n",
       "      <td>NaN</td>\n",
       "      <td>70.0</td>\n",
       "      <td>0.0</td>\n",
       "      <td>1.0</td>\n",
       "      <td>0.0</td>\n",
       "      <td>1.0</td>\n",
       "      <td>NaN</td>\n",
       "    </tr>\n",
       "    <tr>\n",
       "      <th>1</th>\n",
       "      <td>61535</td>\n",
       "      <td>49496.0</td>\n",
       "      <td>53.0</td>\n",
       "      <td>NaN</td>\n",
       "      <td>53.0</td>\n",
       "      <td>194.0</td>\n",
       "      <td>NaN</td>\n",
       "      <td>92.0</td>\n",
       "      <td>2.0</td>\n",
       "      <td>30.0</td>\n",
       "      <td>1.0</td>\n",
       "      <td>1.0</td>\n",
       "    </tr>\n",
       "    <tr>\n",
       "      <th>2</th>\n",
       "      <td>31457</td>\n",
       "      <td>49209.0</td>\n",
       "      <td>53.0</td>\n",
       "      <td>27106.0</td>\n",
       "      <td>NaN</td>\n",
       "      <td>199.0</td>\n",
       "      <td>102.0</td>\n",
       "      <td>NaN</td>\n",
       "      <td>NaN</td>\n",
       "      <td>31.0</td>\n",
       "      <td>NaN</td>\n",
       "      <td>1.0</td>\n",
       "    </tr>\n",
       "    <tr>\n",
       "      <th>3</th>\n",
       "      <td>49294</td>\n",
       "      <td>49225.0</td>\n",
       "      <td>53.0</td>\n",
       "      <td>NaN</td>\n",
       "      <td>53.0</td>\n",
       "      <td>295.0</td>\n",
       "      <td>101.0</td>\n",
       "      <td>194.0</td>\n",
       "      <td>NaN</td>\n",
       "      <td>48.0</td>\n",
       "      <td>2.0</td>\n",
       "      <td>2.0</td>\n",
       "    </tr>\n",
       "    <tr>\n",
       "      <th>4</th>\n",
       "      <td>8826</td>\n",
       "      <td>NaN</td>\n",
       "      <td>NaN</td>\n",
       "      <td>0.0</td>\n",
       "      <td>NaN</td>\n",
       "      <td>70.0</td>\n",
       "      <td>70.0</td>\n",
       "      <td>0.0</td>\n",
       "      <td>1.0</td>\n",
       "      <td>0.0</td>\n",
       "      <td>NaN</td>\n",
       "      <td>NaN</td>\n",
       "    </tr>\n",
       "    <tr>\n",
       "      <th>...</th>\n",
       "      <td>...</td>\n",
       "      <td>...</td>\n",
       "      <td>...</td>\n",
       "      <td>...</td>\n",
       "      <td>...</td>\n",
       "      <td>...</td>\n",
       "      <td>...</td>\n",
       "      <td>...</td>\n",
       "      <td>...</td>\n",
       "      <td>...</td>\n",
       "      <td>...</td>\n",
       "      <td>...</td>\n",
       "    </tr>\n",
       "    <tr>\n",
       "      <th>19657</th>\n",
       "      <td>1083</td>\n",
       "      <td>NaN</td>\n",
       "      <td>25174.0</td>\n",
       "      <td>0.0</td>\n",
       "      <td>0.0</td>\n",
       "      <td>146.0</td>\n",
       "      <td>146.0</td>\n",
       "      <td>0.0</td>\n",
       "      <td>NaN</td>\n",
       "      <td>NaN</td>\n",
       "      <td>1.0</td>\n",
       "      <td>NaN</td>\n",
       "    </tr>\n",
       "    <tr>\n",
       "      <th>19658</th>\n",
       "      <td>20633</td>\n",
       "      <td>NaN</td>\n",
       "      <td>53.0</td>\n",
       "      <td>49003.0</td>\n",
       "      <td>53.0</td>\n",
       "      <td>194.0</td>\n",
       "      <td>102.0</td>\n",
       "      <td>92.0</td>\n",
       "      <td>2.0</td>\n",
       "      <td>31.0</td>\n",
       "      <td>1.0</td>\n",
       "      <td>1.0</td>\n",
       "    </tr>\n",
       "    <tr>\n",
       "      <th>19659</th>\n",
       "      <td>50324</td>\n",
       "      <td>27005.0</td>\n",
       "      <td>27015.0</td>\n",
       "      <td>NaN</td>\n",
       "      <td>27015.0</td>\n",
       "      <td>878.0</td>\n",
       "      <td>NaN</td>\n",
       "      <td>752.0</td>\n",
       "      <td>2.0</td>\n",
       "      <td>30.0</td>\n",
       "      <td>1.0</td>\n",
       "      <td>1.0</td>\n",
       "    </tr>\n",
       "    <tr>\n",
       "      <th>19660</th>\n",
       "      <td>16271</td>\n",
       "      <td>49676.0</td>\n",
       "      <td>53.0</td>\n",
       "      <td>NaN</td>\n",
       "      <td>NaN</td>\n",
       "      <td>216.0</td>\n",
       "      <td>110.0</td>\n",
       "      <td>106.0</td>\n",
       "      <td>2.0</td>\n",
       "      <td>30.0</td>\n",
       "      <td>1.0</td>\n",
       "      <td>1.0</td>\n",
       "    </tr>\n",
       "    <tr>\n",
       "      <th>19661</th>\n",
       "      <td>35759</td>\n",
       "      <td>57233.0</td>\n",
       "      <td>50934.0</td>\n",
       "      <td>0.0</td>\n",
       "      <td>0.0</td>\n",
       "      <td>66.0</td>\n",
       "      <td>66.0</td>\n",
       "      <td>0.0</td>\n",
       "      <td>NaN</td>\n",
       "      <td>0.0</td>\n",
       "      <td>NaN</td>\n",
       "      <td>0.0</td>\n",
       "    </tr>\n",
       "  </tbody>\n",
       "</table>\n",
       "<p>19662 rows × 12 columns</p>\n",
       "</div>"
      ],
      "text/plain": [
       "          ID  Source Port  Destination Port  NAT Source Port  \\\n",
       "0      23127      50142.0             445.0              0.0   \n",
       "1      61535      49496.0              53.0              NaN   \n",
       "2      31457      49209.0              53.0          27106.0   \n",
       "3      49294      49225.0              53.0              NaN   \n",
       "4       8826          NaN               NaN              0.0   \n",
       "...      ...          ...               ...              ...   \n",
       "19657   1083          NaN           25174.0              0.0   \n",
       "19658  20633          NaN              53.0          49003.0   \n",
       "19659  50324      27005.0           27015.0              NaN   \n",
       "19660  16271      49676.0              53.0              NaN   \n",
       "19661  35759      57233.0           50934.0              0.0   \n",
       "\n",
       "       NAT Destination Port  Bytes  Bytes Sent  Bytes Received  Packets  \\\n",
       "0                       0.0    NaN        70.0             0.0      1.0   \n",
       "1                      53.0  194.0         NaN            92.0      2.0   \n",
       "2                       NaN  199.0       102.0             NaN      NaN   \n",
       "3                      53.0  295.0       101.0           194.0      NaN   \n",
       "4                       NaN   70.0        70.0             0.0      1.0   \n",
       "...                     ...    ...         ...             ...      ...   \n",
       "19657                   0.0  146.0       146.0             0.0      NaN   \n",
       "19658                  53.0  194.0       102.0            92.0      2.0   \n",
       "19659               27015.0  878.0         NaN           752.0      2.0   \n",
       "19660                   NaN  216.0       110.0           106.0      2.0   \n",
       "19661                   0.0   66.0        66.0             0.0      NaN   \n",
       "\n",
       "       Elapsed Time (sec)  pkts_sent  pkts_received  \n",
       "0                     0.0        1.0            NaN  \n",
       "1                    30.0        1.0            1.0  \n",
       "2                    31.0        NaN            1.0  \n",
       "3                    48.0        2.0            2.0  \n",
       "4                     0.0        NaN            NaN  \n",
       "...                   ...        ...            ...  \n",
       "19657                 NaN        1.0            NaN  \n",
       "19658                31.0        1.0            1.0  \n",
       "19659                30.0        1.0            1.0  \n",
       "19660                30.0        1.0            1.0  \n",
       "19661                 0.0        NaN            0.0  \n",
       "\n",
       "[19662 rows x 12 columns]"
      ]
     },
     "execution_count": 21,
     "metadata": {},
     "output_type": "execute_result"
    }
   ],
   "source": [
    "test"
   ]
  },
  {
   "cell_type": "code",
   "execution_count": 22,
   "metadata": {},
   "outputs": [],
   "source": [
    "final_train_X = train[train_X_variables]\n",
    "final_train_y = train[train_y_variables]\n",
    "final_test_X = test[train_X_variables]"
   ]
  },
  {
   "cell_type": "code",
   "execution_count": 23,
   "metadata": {},
   "outputs": [
    {
     "name": "stdout",
     "output_type": "stream",
     "text": [
      "[]\n",
      "['Source Port', 'Destination Port', 'NAT Source Port', 'NAT Destination Port', 'Bytes', 'Bytes Sent', 'Elapsed Time (sec)']\n"
     ]
    }
   ],
   "source": [
    "# Getting Catagorical Columns\n",
    "\n",
    "s = (final_train_X.dtypes == 'object')\n",
    "object_cols = list(s[s].index)\n",
    "\n",
    "# Getting Numerical Columns\n",
    "\n",
    "s = (final_train_X.dtypes != 'object')\n",
    "num_cols = list(s[s].index)\n",
    "\n",
    "#printing to check\n",
    "\n",
    "print(object_cols)\n",
    "print(num_cols)"
   ]
  },
  {
   "cell_type": "code",
   "execution_count": 24,
   "metadata": {},
   "outputs": [],
   "source": [
    "# Numeric Transformer\n",
    "\n",
    "numerical_transformer = SimpleImputer(strategy='median')\n",
    "\n",
    "# Catagorical Transformer\n",
    "\n",
    "categorical_transformer = Pipeline(steps=[\n",
    "    ('imputer', SimpleImputer(strategy='most_frequent')),\n",
    "    ('onehot', OneHotEncoder(handle_unknown='ignore'))\n",
    "])\n",
    "\n",
    "# Preprocessing\n",
    "\n",
    "preprocessor = ColumnTransformer(\n",
    "    transformers=[\n",
    "        ('num', numerical_transformer, num_cols),\n",
    "        ('cat', categorical_transformer, object_cols)\n",
    "    ])\n"
   ]
  },
  {
   "cell_type": "code",
   "execution_count": 25,
   "metadata": {},
   "outputs": [],
   "source": [
    "# APPLYING PIPELINE\n",
    "\n",
    "my_pipeline = Pipeline(steps=[('preprocessor', preprocessor),\n",
    "                              ('model', model_cat)\n",
    "                             ])\n",
    "my_pipeline.fit(final_train_X, final_train_y)\n",
    "preds = my_pipeline.predict(final_test_X)\n",
    "\n"
   ]
  },
  {
   "cell_type": "code",
   "execution_count": 26,
   "metadata": {},
   "outputs": [],
   "source": [
    "import pandas as pd\n",
    "preds = pd.DataFrame(preds)\n",
    "preds.columns = ['Action']"
   ]
  },
  {
   "cell_type": "code",
   "execution_count": 27,
   "metadata": {},
   "outputs": [],
   "source": [
    "preds.Action.replace((4,3,2,1),('allow', 'deny', 'drop', 'reset-both') ,inplace=True)\n"
   ]
  },
  {
   "cell_type": "code",
   "execution_count": null,
   "metadata": {},
   "outputs": [],
   "source": [
    "preds.to_csv('final_3_cat_3.csv')"
   ]
  }
 ],
 "metadata": {
  "kernelspec": {
   "display_name": "Python 3",
   "language": "python",
   "name": "python3"
  },
  "language_info": {
   "codemirror_mode": {
    "name": "ipython",
    "version": 3
   },
   "file_extension": ".py",
   "mimetype": "text/x-python",
   "name": "python",
   "nbconvert_exporter": "python",
   "pygments_lexer": "ipython3",
   "version": "3.7.6"
  }
 },
 "nbformat": 4,
 "nbformat_minor": 4
}
